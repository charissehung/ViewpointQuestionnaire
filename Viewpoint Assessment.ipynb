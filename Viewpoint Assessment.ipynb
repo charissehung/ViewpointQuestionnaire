{
 "cells": [
  {
   "cell_type": "code",
   "execution_count": 1,
   "metadata": {},
   "outputs": [],
   "source": [
    "import pandas as pd\n",
    "import numpy as np\n",
    "import string"
   ]
  },
  {
   "cell_type": "markdown",
   "metadata": {},
   "source": [
    "## Question 1a"
   ]
  },
  {
   "cell_type": "code",
   "execution_count": null,
   "metadata": {},
   "outputs": [],
   "source": [
    "SELECT \n",
    "    name_table* \n",
    "FROM \n",
    "    name_table \n",
    "JOIN\n",
    "    mark_table \n",
    "    ON mark_table.studentID = name_table.studentID \n",
    "CROSS JOIN\n",
    "    (\n",
    "    SELECT\n",
    "        total_marks\n",
    "    FROM\n",
    "        mark_table\n",
    "    WHERE\n",
    "        studentID = 'V002'\n",
    "    )\n",
    "    mt\n",
    "WHERE\n",
    "    mark_table.total_marks > mt.total_marks"
   ]
  },
  {
   "cell_type": "markdown",
   "metadata": {},
   "source": [
    "## Question 1b"
   ]
  },
  {
   "cell_type": "code",
   "execution_count": 2,
   "metadata": {},
   "outputs": [],
   "source": [
    "StudentID_list = ['V001', 'V002', 'V003', 'V004']\n",
    "Name_list= ['Abe', 'Abhay', 'Acelin', 'Adelphos']\n",
    "Total_marks_list = [95, 80, 74, 81]\n",
    "name_table = pd.DataFrame(list(zip(StudentID_list, Name_list)),\n",
    "                         columns = [\"StudentID\", \"Name\"])\n",
    "mark_table = pd.DataFrame(list(zip(StudentID_list, Total_marks_list)),\n",
    "                         columns = [\"StudentID\", \"Total_marks\"])"
   ]
  },
  {
   "cell_type": "code",
   "execution_count": 3,
   "metadata": {},
   "outputs": [
    {
     "data": {
      "text/html": [
       "<div>\n",
       "<style scoped>\n",
       "    .dataframe tbody tr th:only-of-type {\n",
       "        vertical-align: middle;\n",
       "    }\n",
       "\n",
       "    .dataframe tbody tr th {\n",
       "        vertical-align: top;\n",
       "    }\n",
       "\n",
       "    .dataframe thead th {\n",
       "        text-align: right;\n",
       "    }\n",
       "</style>\n",
       "<table border=\"1\" class=\"dataframe\">\n",
       "  <thead>\n",
       "    <tr style=\"text-align: right;\">\n",
       "      <th></th>\n",
       "      <th>StudentID</th>\n",
       "      <th>Name</th>\n",
       "    </tr>\n",
       "  </thead>\n",
       "  <tbody>\n",
       "    <tr>\n",
       "      <th>0</th>\n",
       "      <td>V001</td>\n",
       "      <td>Abe</td>\n",
       "    </tr>\n",
       "    <tr>\n",
       "      <th>1</th>\n",
       "      <td>V002</td>\n",
       "      <td>Abhay</td>\n",
       "    </tr>\n",
       "    <tr>\n",
       "      <th>2</th>\n",
       "      <td>V003</td>\n",
       "      <td>Acelin</td>\n",
       "    </tr>\n",
       "    <tr>\n",
       "      <th>3</th>\n",
       "      <td>V004</td>\n",
       "      <td>Adelphos</td>\n",
       "    </tr>\n",
       "  </tbody>\n",
       "</table>\n",
       "</div>"
      ],
      "text/plain": [
       "  StudentID      Name\n",
       "0      V001       Abe\n",
       "1      V002     Abhay\n",
       "2      V003    Acelin\n",
       "3      V004  Adelphos"
      ]
     },
     "execution_count": 3,
     "metadata": {},
     "output_type": "execute_result"
    }
   ],
   "source": [
    "name_table"
   ]
  },
  {
   "cell_type": "code",
   "execution_count": 4,
   "metadata": {},
   "outputs": [
    {
     "data": {
      "text/html": [
       "<div>\n",
       "<style scoped>\n",
       "    .dataframe tbody tr th:only-of-type {\n",
       "        vertical-align: middle;\n",
       "    }\n",
       "\n",
       "    .dataframe tbody tr th {\n",
       "        vertical-align: top;\n",
       "    }\n",
       "\n",
       "    .dataframe thead th {\n",
       "        text-align: right;\n",
       "    }\n",
       "</style>\n",
       "<table border=\"1\" class=\"dataframe\">\n",
       "  <thead>\n",
       "    <tr style=\"text-align: right;\">\n",
       "      <th></th>\n",
       "      <th>StudentID</th>\n",
       "      <th>Total_marks</th>\n",
       "    </tr>\n",
       "  </thead>\n",
       "  <tbody>\n",
       "    <tr>\n",
       "      <th>0</th>\n",
       "      <td>V001</td>\n",
       "      <td>95</td>\n",
       "    </tr>\n",
       "    <tr>\n",
       "      <th>1</th>\n",
       "      <td>V002</td>\n",
       "      <td>80</td>\n",
       "    </tr>\n",
       "    <tr>\n",
       "      <th>2</th>\n",
       "      <td>V003</td>\n",
       "      <td>74</td>\n",
       "    </tr>\n",
       "    <tr>\n",
       "      <th>3</th>\n",
       "      <td>V004</td>\n",
       "      <td>81</td>\n",
       "    </tr>\n",
       "  </tbody>\n",
       "</table>\n",
       "</div>"
      ],
      "text/plain": [
       "  StudentID  Total_marks\n",
       "0      V001           95\n",
       "1      V002           80\n",
       "2      V003           74\n",
       "3      V004           81"
      ]
     },
     "execution_count": 4,
     "metadata": {},
     "output_type": "execute_result"
    }
   ],
   "source": [
    "mark_table"
   ]
  },
  {
   "cell_type": "code",
   "execution_count": 5,
   "metadata": {},
   "outputs": [],
   "source": [
    "def e_to_upper(df):\n",
    "    df[\"Name\"] = (df[\"Name\"]).str.lower() # make entire Name column lowercase\n",
    "    df['Name'] = df['Name'].apply(lambda x:x.upper() if 'e' in x or 'E' in x else x) # uppercase names with 'e' or 'E'\n",
    "    return df"
   ]
  },
  {
   "cell_type": "code",
   "execution_count": 6,
   "metadata": {},
   "outputs": [
    {
     "data": {
      "text/html": [
       "<div>\n",
       "<style scoped>\n",
       "    .dataframe tbody tr th:only-of-type {\n",
       "        vertical-align: middle;\n",
       "    }\n",
       "\n",
       "    .dataframe tbody tr th {\n",
       "        vertical-align: top;\n",
       "    }\n",
       "\n",
       "    .dataframe thead th {\n",
       "        text-align: right;\n",
       "    }\n",
       "</style>\n",
       "<table border=\"1\" class=\"dataframe\">\n",
       "  <thead>\n",
       "    <tr style=\"text-align: right;\">\n",
       "      <th></th>\n",
       "      <th>StudentID</th>\n",
       "      <th>Name</th>\n",
       "    </tr>\n",
       "  </thead>\n",
       "  <tbody>\n",
       "    <tr>\n",
       "      <th>0</th>\n",
       "      <td>V001</td>\n",
       "      <td>ABE</td>\n",
       "    </tr>\n",
       "    <tr>\n",
       "      <th>1</th>\n",
       "      <td>V002</td>\n",
       "      <td>abhay</td>\n",
       "    </tr>\n",
       "    <tr>\n",
       "      <th>2</th>\n",
       "      <td>V003</td>\n",
       "      <td>ACELIN</td>\n",
       "    </tr>\n",
       "    <tr>\n",
       "      <th>3</th>\n",
       "      <td>V004</td>\n",
       "      <td>ADELPHOS</td>\n",
       "    </tr>\n",
       "  </tbody>\n",
       "</table>\n",
       "</div>"
      ],
      "text/plain": [
       "  StudentID      Name\n",
       "0      V001       ABE\n",
       "1      V002     abhay\n",
       "2      V003    ACELIN\n",
       "3      V004  ADELPHOS"
      ]
     },
     "execution_count": 6,
     "metadata": {},
     "output_type": "execute_result"
    }
   ],
   "source": [
    "new_name = e_to_upper(name_table)\n",
    "new_name"
   ]
  },
  {
   "cell_type": "markdown",
   "metadata": {},
   "source": [
    "## Question 1c"
   ]
  },
  {
   "cell_type": "code",
   "execution_count": 7,
   "metadata": {},
   "outputs": [],
   "source": [
    "def avg_grade(names, marks):\n",
    "    merged = pd.merge(names, marks, on = \"StudentID\")\n",
    "    merged[\"Case\"] = np.where(merged[\"Name\"].str.isupper(), \"Uppercase\", \"Lowercase\")\n",
    "    merged = merged.groupby(\"Case\").mean().rename(columns={\"Total_marks\": \"Average Marks\"})\n",
    "    return merged"
   ]
  },
  {
   "cell_type": "code",
   "execution_count": 8,
   "metadata": {},
   "outputs": [
    {
     "data": {
      "text/html": [
       "<div>\n",
       "<style scoped>\n",
       "    .dataframe tbody tr th:only-of-type {\n",
       "        vertical-align: middle;\n",
       "    }\n",
       "\n",
       "    .dataframe tbody tr th {\n",
       "        vertical-align: top;\n",
       "    }\n",
       "\n",
       "    .dataframe thead th {\n",
       "        text-align: right;\n",
       "    }\n",
       "</style>\n",
       "<table border=\"1\" class=\"dataframe\">\n",
       "  <thead>\n",
       "    <tr style=\"text-align: right;\">\n",
       "      <th></th>\n",
       "      <th>Average Marks</th>\n",
       "    </tr>\n",
       "    <tr>\n",
       "      <th>Case</th>\n",
       "      <th></th>\n",
       "    </tr>\n",
       "  </thead>\n",
       "  <tbody>\n",
       "    <tr>\n",
       "      <th>Lowercase</th>\n",
       "      <td>80.000000</td>\n",
       "    </tr>\n",
       "    <tr>\n",
       "      <th>Uppercase</th>\n",
       "      <td>83.333333</td>\n",
       "    </tr>\n",
       "  </tbody>\n",
       "</table>\n",
       "</div>"
      ],
      "text/plain": [
       "           Average Marks\n",
       "Case                    \n",
       "Lowercase      80.000000\n",
       "Uppercase      83.333333"
      ]
     },
     "execution_count": 8,
     "metadata": {},
     "output_type": "execute_result"
    }
   ],
   "source": [
    "avg_grade(new_name, mark_table)"
   ]
  },
  {
   "cell_type": "markdown",
   "metadata": {},
   "source": [
    "## Question 2a"
   ]
  },
  {
   "cell_type": "code",
   "execution_count": 9,
   "metadata": {},
   "outputs": [],
   "source": [
    "# read data\n",
    "whitehouse = pd.read_csv('https://raw.githubusercontent.com/helloworlddata/white-house-salaries/master/data/converted/2017.csv')"
   ]
  },
  {
   "cell_type": "code",
   "execution_count": 10,
   "metadata": {},
   "outputs": [],
   "source": [
    "# data cleaning\n",
    "whitehouse.iloc[250,]['POSITION TITLE'] = 'SPECIAL ASSISTANT'\n",
    "whitehouse.iloc[350,]['POSITION TITLE'] = 'DIRECTOR OF SPECIAL PROJECTS FOR CORRESPONDENCE'\n",
    "\n",
    "# remove PAY BASIS as everyone is the Per Annum\n",
    "whitehouse = whitehouse.drop(['PAY BASIS'], axis=1)"
   ]
  },
  {
   "cell_type": "code",
   "execution_count": 11,
   "metadata": {},
   "outputs": [],
   "source": [
    "# remove words of 3 letters or less from POSITION TITLE\n",
    "whitehouse['POSITION TITLE'] = whitehouse['POSITION TITLE'].apply(lambda x: ' '.join(word for word in x.split() if len(word)>3))"
   ]
  },
  {
   "cell_type": "code",
   "execution_count": 12,
   "metadata": {},
   "outputs": [],
   "source": [
    "# convert SALARY column to float\n",
    "whitehouse['SALARY'] = whitehouse['SALARY'].str.replace('$', '').str.replace(',', '').astype(float)"
   ]
  },
  {
   "cell_type": "code",
   "execution_count": 13,
   "metadata": {},
   "outputs": [
    {
     "data": {
      "text/html": [
       "<div>\n",
       "<style scoped>\n",
       "    .dataframe tbody tr th:only-of-type {\n",
       "        vertical-align: middle;\n",
       "    }\n",
       "\n",
       "    .dataframe tbody tr th {\n",
       "        vertical-align: top;\n",
       "    }\n",
       "\n",
       "    .dataframe thead th {\n",
       "        text-align: right;\n",
       "    }\n",
       "</style>\n",
       "<table border=\"1\" class=\"dataframe\">\n",
       "  <thead>\n",
       "    <tr style=\"text-align: right;\">\n",
       "      <th></th>\n",
       "      <th>NAME</th>\n",
       "      <th>STATUS</th>\n",
       "      <th>SALARY</th>\n",
       "      <th>POSITION TITLE</th>\n",
       "    </tr>\n",
       "  </thead>\n",
       "  <tbody>\n",
       "    <tr>\n",
       "      <th>0</th>\n",
       "      <td>Alexander, Monica K.</td>\n",
       "      <td>Employee</td>\n",
       "      <td>56000.0</td>\n",
       "      <td>EXECUTIVE ASSISTANT</td>\n",
       "    </tr>\n",
       "    <tr>\n",
       "      <th>1</th>\n",
       "      <td>Ambrosini, Michael J.</td>\n",
       "      <td>Employee</td>\n",
       "      <td>95000.0</td>\n",
       "      <td>SPECIAL ASSISTANT PRESIDENT DIRECTOR OFFICE CH...</td>\n",
       "    </tr>\n",
       "    <tr>\n",
       "      <th>2</th>\n",
       "      <td>Amin, Stacy C.</td>\n",
       "      <td>Employee</td>\n",
       "      <td>140000.0</td>\n",
       "      <td>SPECIAL ASSISTANT PRESIDENT ASSOCIATE COUNSEL ...</td>\n",
       "    </tr>\n",
       "    <tr>\n",
       "      <th>3</th>\n",
       "      <td>Andersen, Whitney N.</td>\n",
       "      <td>Employee</td>\n",
       "      <td>94000.0</td>\n",
       "      <td>DEPUTY DIRECTOR OPERATIONS WHITE HOUSE MANAGEM...</td>\n",
       "    </tr>\n",
       "    <tr>\n",
       "      <th>4</th>\n",
       "      <td>Anderson, Alexander J.</td>\n",
       "      <td>Employee</td>\n",
       "      <td>77000.0</td>\n",
       "      <td>DIRECTOR DIGITAL ENGAGEMENT</td>\n",
       "    </tr>\n",
       "    <tr>\n",
       "      <th>...</th>\n",
       "      <td>...</td>\n",
       "      <td>...</td>\n",
       "      <td>...</td>\n",
       "      <td>...</td>\n",
       "    </tr>\n",
       "    <tr>\n",
       "      <th>372</th>\n",
       "      <td>Winfree, Paul L.</td>\n",
       "      <td>Employee</td>\n",
       "      <td>155000.0</td>\n",
       "      <td>DEPUTY ASSISTANT PRESIDENT DEPUTY DIRECTOR DOM...</td>\n",
       "    </tr>\n",
       "    <tr>\n",
       "      <th>373</th>\n",
       "      <td>Worthington, Ross P.</td>\n",
       "      <td>Employee</td>\n",
       "      <td>130000.0</td>\n",
       "      <td>SPECIAL ASSISTANT PRESIDENT ADVISOR STRATEGY S...</td>\n",
       "    </tr>\n",
       "    <tr>\n",
       "      <th>374</th>\n",
       "      <td>Young, Jr., Reginald D.</td>\n",
       "      <td>Employee</td>\n",
       "      <td>72648.0</td>\n",
       "      <td>SENIOR RECORDS MANAGEMENT ANALYST</td>\n",
       "    </tr>\n",
       "    <tr>\n",
       "      <th>375</th>\n",
       "      <td>Zadrozny, John A.</td>\n",
       "      <td>Employee</td>\n",
       "      <td>95000.0</td>\n",
       "      <td>SPECIAL ASSISTANT PRESIDENT JUSTICE HOMELAND S...</td>\n",
       "    </tr>\n",
       "    <tr>\n",
       "      <th>376</th>\n",
       "      <td>Zager, Samantha L.</td>\n",
       "      <td>Employee</td>\n",
       "      <td>47000.0</td>\n",
       "      <td>STAFF ASSISTANT</td>\n",
       "    </tr>\n",
       "  </tbody>\n",
       "</table>\n",
       "<p>377 rows × 4 columns</p>\n",
       "</div>"
      ],
      "text/plain": [
       "                        NAME    STATUS    SALARY  \\\n",
       "0       Alexander, Monica K.  Employee   56000.0   \n",
       "1      Ambrosini, Michael J.  Employee   95000.0   \n",
       "2             Amin, Stacy C.  Employee  140000.0   \n",
       "3       Andersen, Whitney N.  Employee   94000.0   \n",
       "4     Anderson, Alexander J.  Employee   77000.0   \n",
       "..                       ...       ...       ...   \n",
       "372         Winfree, Paul L.  Employee  155000.0   \n",
       "373     Worthington, Ross P.  Employee  130000.0   \n",
       "374  Young, Jr., Reginald D.  Employee   72648.0   \n",
       "375        Zadrozny, John A.  Employee   95000.0   \n",
       "376       Zager, Samantha L.  Employee   47000.0   \n",
       "\n",
       "                                        POSITION TITLE  \n",
       "0                                  EXECUTIVE ASSISTANT  \n",
       "1    SPECIAL ASSISTANT PRESIDENT DIRECTOR OFFICE CH...  \n",
       "2    SPECIAL ASSISTANT PRESIDENT ASSOCIATE COUNSEL ...  \n",
       "3    DEPUTY DIRECTOR OPERATIONS WHITE HOUSE MANAGEM...  \n",
       "4                          DIRECTOR DIGITAL ENGAGEMENT  \n",
       "..                                                 ...  \n",
       "372  DEPUTY ASSISTANT PRESIDENT DEPUTY DIRECTOR DOM...  \n",
       "373  SPECIAL ASSISTANT PRESIDENT ADVISOR STRATEGY S...  \n",
       "374                  SENIOR RECORDS MANAGEMENT ANALYST  \n",
       "375  SPECIAL ASSISTANT PRESIDENT JUSTICE HOMELAND S...  \n",
       "376                                    STAFF ASSISTANT  \n",
       "\n",
       "[377 rows x 4 columns]"
      ]
     },
     "execution_count": 13,
     "metadata": {},
     "output_type": "execute_result"
    }
   ],
   "source": [
    "whitehouse"
   ]
  },
  {
   "cell_type": "markdown",
   "metadata": {},
   "source": [
    "## Question 2b"
   ]
  },
  {
   "cell_type": "code",
   "execution_count": 14,
   "metadata": {},
   "outputs": [],
   "source": [
    "data = pd.read_csv('https://raw.githubusercontent.com/fractalbass/data_engineer/master/data.csv', header = None)"
   ]
  },
  {
   "cell_type": "code",
   "execution_count": 15,
   "metadata": {},
   "outputs": [],
   "source": [
    "data = data.drop([0], axis = 1)"
   ]
  },
  {
   "cell_type": "code",
   "execution_count": 16,
   "metadata": {},
   "outputs": [],
   "source": [
    "import seaborn as sns"
   ]
  },
  {
   "cell_type": "code",
   "execution_count": 17,
   "metadata": {},
   "outputs": [
    {
     "data": {
      "text/plain": [
       "<AxesSubplot:ylabel='Count'>"
      ]
     },
     "execution_count": 17,
     "metadata": {},
     "output_type": "execute_result"
    },
    {
     "data": {
      "image/png": "[encoded data removed]",
      "text/plain": [
       "<Figure size 432x288 with 1 Axes>"
      ]
     },
     "metadata": {
      "needs_background": "light"
     },
     "output_type": "display_data"
    }
   ],
   "source": [
    "sns.histplot(data)"
   ]
  },
  {
   "cell_type": "code",
   "execution_count": 18,
   "metadata": {},
   "outputs": [
    {
     "data": {
      "text/plain": [
       "1    23.036075\n",
       "dtype: float64"
      ]
     },
     "execution_count": 18,
     "metadata": {},
     "output_type": "execute_result"
    }
   ],
   "source": [
    "np.mean(data)"
   ]
  },
  {
   "cell_type": "code",
   "execution_count": 19,
   "metadata": {},
   "outputs": [
    {
     "data": {
      "text/plain": [
       "1    2.995147\n",
       "dtype: float64"
      ]
     },
     "execution_count": 19,
     "metadata": {},
     "output_type": "execute_result"
    }
   ],
   "source": [
    "np.std(data)"
   ]
  },
  {
   "cell_type": "markdown",
   "metadata": {},
   "source": [
    "The data appears normally distributed with a mean of 23.04 and standard deviation of 3. The data ranges from 11.25 to 33.29 and contains 1000 elements."
   ]
  },
  {
   "cell_type": "markdown",
   "metadata": {},
   "source": [
    "## Question 3"
   ]
  },
  {
   "cell_type": "markdown",
   "metadata": {},
   "source": [
    "I would use libraries that are optimized for large datasets such as Vaex or Dask because they use lazy computation. This means that expressions are only evaluated when necessary. Also the I would not use Pandas dataframes as they are not optimized to handle this much data. Furthermore, the functinality of Vaex and Dask is similar to that of Pandas and Numpy."
   ]
  },
  {
   "cell_type": "markdown",
   "metadata": {},
   "source": [
    "## Question 4"
   ]
  },
  {
   "cell_type": "markdown",
   "metadata": {},
   "source": [
    "I would automate the process with an AWS pipeline."
   ]
  },
  {
   "cell_type": "markdown",
   "metadata": {},
   "source": [
    "## Question 5"
   ]
  },
  {
   "cell_type": "markdown",
   "metadata": {},
   "source": [
    "My favorite mathematician is Terence Tao. He is a math professor at UCLA and arguably one of the greatest mathematicians alive today. Though my mathematics knowledge isn't advanced enough to comprehend his complex research topics, what I appreciate is his teaching style and sense of humor. Last year when my linear algebra professor was out sick for a day, Professor Tao was our substitute. That 50 minute lecture on determinants is the best lecture I've ever had. Not only was he clear in his definitions and explanations, he also provided useful examples to help us build geometric intuition. Through it all, he cracked subtle jokes and answered students questions thoughtfully. I proceeded to watch the recording of the lecture two times that month just because I enjoyed his teaching so much. "
   ]
  }
 ],
 "metadata": {
  "kernelspec": {
   "display_name": "Python 3",
   "language": "python",
   "name": "python3"
  },
  "language_info": {
   "codemirror_mode": {
    "name": "ipython",
    "version": 3
   },
   "file_extension": ".py",
   "mimetype": "text/x-python",
   "name": "python",
   "nbconvert_exporter": "python",
   "pygments_lexer": "ipython3",
   "version": "3.7.9"
  }
 },
 "nbformat": 4,
 "nbformat_minor": 4
}
